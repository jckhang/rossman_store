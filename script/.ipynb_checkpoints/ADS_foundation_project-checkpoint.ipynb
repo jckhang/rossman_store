{
 "cells": [
  {
   "cell_type": "markdown",
   "metadata": {},
   "source": [
    "## 1. Loading Data:"
   ]
  },
  {
   "cell_type": "code",
   "execution_count": 18,
   "metadata": {
    "collapsed": false
   },
   "outputs": [],
   "source": [
    "%matplotlib inline\n",
    "from __future__ import print_function\n",
    "\n",
    "import pandas as pd\n",
    "import numpy as np\n",
    "from sklearn import cross_validation\n",
    "import xgboost as xgb\n",
    "import scipy.stats as stats\n",
    "import matplotlib.pyplot as plt\n",
    "import sklearn\n",
    "import statsmodels.api as sm\n",
    "\n",
    "import seaborn as sns\n",
    "sns.set_style(\"whitegrid\")\n",
    "sns.set_context(\"poster\")\n",
    "\n",
    "from matplotlib import rcParams"
   ]
  },
  {
   "cell_type": "code",
   "execution_count": 19,
   "metadata": {
    "collapsed": false
   },
   "outputs": [
    {
     "name": "stdout",
     "output_type": "stream",
     "text": [
      "Load the training, test and store data using pandas\n"
     ]
    }
   ],
   "source": [
    "train_file = '../input/train.csv'\n",
    "test_file = '../input/test.csv'\n",
    "output_file = '../submissions/benchmark_predictions.csv'\n",
    "\n",
    "print(\"Load the training, test and store data using pandas\")\n",
    "train = pd.read_csv(train_file, low_memory=False)\n",
    "test = pd.read_csv(test_file, low_memory=False)\n",
    "store = pd.read_csv(\"../input/store.csv\", low_memory=False)"
   ]
  },
  {
   "cell_type": "markdown",
   "metadata": {},
   "source": [
    "## 2. Exploratory Data Analysis"
   ]
  },
  {
   "cell_type": "markdown",
   "metadata": {},
   "source": [
    "### 2.1. Look at the columns of train/test dataset."
   ]
  },
  {
   "cell_type": "code",
   "execution_count": 20,
   "metadata": {
    "collapsed": false
   },
   "outputs": [
    {
     "name": "stdout",
     "output_type": "stream",
     "text": [
      "<class 'pandas.core.frame.DataFrame'>\n",
      "Int64Index: 1017209 entries, 0 to 1017208\n",
      "Data columns (total 9 columns):\n",
      "Store            1017209 non-null int64\n",
      "DayOfWeek        1017209 non-null int64\n",
      "Date             1017209 non-null object\n",
      "Sales            1017209 non-null int64\n",
      "Customers        1017209 non-null int64\n",
      "Open             1017209 non-null int64\n",
      "Promo            1017209 non-null int64\n",
      "StateHoliday     1017209 non-null object\n",
      "SchoolHoliday    1017209 non-null int64\n",
      "dtypes: int64(7), object(2)\n",
      "memory usage: 77.6+ MB\n",
      "None\n",
      "----------------------------------------\n",
      "<class 'pandas.core.frame.DataFrame'>\n",
      "Int64Index: 41088 entries, 0 to 41087\n",
      "Data columns (total 8 columns):\n",
      "Id               41088 non-null int64\n",
      "Store            41088 non-null int64\n",
      "DayOfWeek        41088 non-null int64\n",
      "Date             41088 non-null object\n",
      "Open             41077 non-null float64\n",
      "Promo            41088 non-null int64\n",
      "StateHoliday     41088 non-null object\n",
      "SchoolHoliday    41088 non-null int64\n",
      "dtypes: float64(1), int64(5), object(2)\n",
      "memory usage: 2.8+ MB\n",
      "None\n",
      "----------------------------------------\n",
      "<class 'pandas.core.frame.DataFrame'>\n",
      "Int64Index: 1115 entries, 0 to 1114\n",
      "Data columns (total 10 columns):\n",
      "Store                        1115 non-null int64\n",
      "StoreType                    1115 non-null object\n",
      "Assortment                   1115 non-null object\n",
      "CompetitionDistance          1112 non-null float64\n",
      "CompetitionOpenSinceMonth    761 non-null float64\n",
      "CompetitionOpenSinceYear     761 non-null float64\n",
      "Promo2                       1115 non-null int64\n",
      "Promo2SinceWeek              571 non-null float64\n",
      "Promo2SinceYear              571 non-null float64\n",
      "PromoInterval                571 non-null object\n",
      "dtypes: float64(5), int64(2), object(3)\n",
      "memory usage: 95.8+ KB\n",
      "None\n"
     ]
    }
   ],
   "source": [
    "print(train.info())\n",
    "print('-'*40)\n",
    "print(test.info())\n",
    "print('-'*40)\n",
    "print(store.info())"
   ]
  },
  {
   "cell_type": "code",
   "execution_count": 21,
   "metadata": {
    "collapsed": false
   },
   "outputs": [
    {
     "data": {
      "text/html": [
       "<div>\n",
       "<table border=\"1\" class=\"dataframe\">\n",
       "  <thead>\n",
       "    <tr style=\"text-align: right;\">\n",
       "      <th></th>\n",
       "      <th>Store</th>\n",
       "      <th>DayOfWeek</th>\n",
       "      <th>Date</th>\n",
       "      <th>Sales</th>\n",
       "      <th>Customers</th>\n",
       "      <th>Open</th>\n",
       "      <th>Promo</th>\n",
       "      <th>StateHoliday</th>\n",
       "      <th>SchoolHoliday</th>\n",
       "    </tr>\n",
       "  </thead>\n",
       "  <tbody>\n",
       "    <tr>\n",
       "      <th>0</th>\n",
       "      <td>1</td>\n",
       "      <td>5</td>\n",
       "      <td>2015-07-31</td>\n",
       "      <td>5263</td>\n",
       "      <td>555</td>\n",
       "      <td>1</td>\n",
       "      <td>1</td>\n",
       "      <td>0</td>\n",
       "      <td>1</td>\n",
       "    </tr>\n",
       "    <tr>\n",
       "      <th>1</th>\n",
       "      <td>2</td>\n",
       "      <td>5</td>\n",
       "      <td>2015-07-31</td>\n",
       "      <td>6064</td>\n",
       "      <td>625</td>\n",
       "      <td>1</td>\n",
       "      <td>1</td>\n",
       "      <td>0</td>\n",
       "      <td>1</td>\n",
       "    </tr>\n",
       "    <tr>\n",
       "      <th>2</th>\n",
       "      <td>3</td>\n",
       "      <td>5</td>\n",
       "      <td>2015-07-31</td>\n",
       "      <td>8314</td>\n",
       "      <td>821</td>\n",
       "      <td>1</td>\n",
       "      <td>1</td>\n",
       "      <td>0</td>\n",
       "      <td>1</td>\n",
       "    </tr>\n",
       "    <tr>\n",
       "      <th>3</th>\n",
       "      <td>4</td>\n",
       "      <td>5</td>\n",
       "      <td>2015-07-31</td>\n",
       "      <td>13995</td>\n",
       "      <td>1498</td>\n",
       "      <td>1</td>\n",
       "      <td>1</td>\n",
       "      <td>0</td>\n",
       "      <td>1</td>\n",
       "    </tr>\n",
       "    <tr>\n",
       "      <th>4</th>\n",
       "      <td>5</td>\n",
       "      <td>5</td>\n",
       "      <td>2015-07-31</td>\n",
       "      <td>4822</td>\n",
       "      <td>559</td>\n",
       "      <td>1</td>\n",
       "      <td>1</td>\n",
       "      <td>0</td>\n",
       "      <td>1</td>\n",
       "    </tr>\n",
       "  </tbody>\n",
       "</table>\n",
       "</div>"
      ],
      "text/plain": [
       "   Store  DayOfWeek        Date  Sales  Customers  Open  Promo StateHoliday  \\\n",
       "0      1          5  2015-07-31   5263        555     1      1            0   \n",
       "1      2          5  2015-07-31   6064        625     1      1            0   \n",
       "2      3          5  2015-07-31   8314        821     1      1            0   \n",
       "3      4          5  2015-07-31  13995       1498     1      1            0   \n",
       "4      5          5  2015-07-31   4822        559     1      1            0   \n",
       "\n",
       "   SchoolHoliday  \n",
       "0              1  \n",
       "1              1  \n",
       "2              1  \n",
       "3              1  \n",
       "4              1  "
      ]
     },
     "execution_count": 21,
     "metadata": {},
     "output_type": "execute_result"
    }
   ],
   "source": [
    "train.head()"
   ]
  },
  {
   "cell_type": "code",
   "execution_count": 22,
   "metadata": {
    "collapsed": false
   },
   "outputs": [
    {
     "data": {
      "text/html": [
       "<div>\n",
       "<table border=\"1\" class=\"dataframe\">\n",
       "  <thead>\n",
       "    <tr style=\"text-align: right;\">\n",
       "      <th></th>\n",
       "      <th>Id</th>\n",
       "      <th>Store</th>\n",
       "      <th>DayOfWeek</th>\n",
       "      <th>Date</th>\n",
       "      <th>Open</th>\n",
       "      <th>Promo</th>\n",
       "      <th>StateHoliday</th>\n",
       "      <th>SchoolHoliday</th>\n",
       "    </tr>\n",
       "  </thead>\n",
       "  <tbody>\n",
       "    <tr>\n",
       "      <th>0</th>\n",
       "      <td>1</td>\n",
       "      <td>1</td>\n",
       "      <td>4</td>\n",
       "      <td>2015-09-17</td>\n",
       "      <td>1</td>\n",
       "      <td>1</td>\n",
       "      <td>0</td>\n",
       "      <td>0</td>\n",
       "    </tr>\n",
       "    <tr>\n",
       "      <th>1</th>\n",
       "      <td>2</td>\n",
       "      <td>3</td>\n",
       "      <td>4</td>\n",
       "      <td>2015-09-17</td>\n",
       "      <td>1</td>\n",
       "      <td>1</td>\n",
       "      <td>0</td>\n",
       "      <td>0</td>\n",
       "    </tr>\n",
       "    <tr>\n",
       "      <th>2</th>\n",
       "      <td>3</td>\n",
       "      <td>7</td>\n",
       "      <td>4</td>\n",
       "      <td>2015-09-17</td>\n",
       "      <td>1</td>\n",
       "      <td>1</td>\n",
       "      <td>0</td>\n",
       "      <td>0</td>\n",
       "    </tr>\n",
       "    <tr>\n",
       "      <th>3</th>\n",
       "      <td>4</td>\n",
       "      <td>8</td>\n",
       "      <td>4</td>\n",
       "      <td>2015-09-17</td>\n",
       "      <td>1</td>\n",
       "      <td>1</td>\n",
       "      <td>0</td>\n",
       "      <td>0</td>\n",
       "    </tr>\n",
       "    <tr>\n",
       "      <th>4</th>\n",
       "      <td>5</td>\n",
       "      <td>9</td>\n",
       "      <td>4</td>\n",
       "      <td>2015-09-17</td>\n",
       "      <td>1</td>\n",
       "      <td>1</td>\n",
       "      <td>0</td>\n",
       "      <td>0</td>\n",
       "    </tr>\n",
       "  </tbody>\n",
       "</table>\n",
       "</div>"
      ],
      "text/plain": [
       "   Id  Store  DayOfWeek        Date  Open  Promo StateHoliday  SchoolHoliday\n",
       "0   1      1          4  2015-09-17     1      1            0              0\n",
       "1   2      3          4  2015-09-17     1      1            0              0\n",
       "2   3      7          4  2015-09-17     1      1            0              0\n",
       "3   4      8          4  2015-09-17     1      1            0              0\n",
       "4   5      9          4  2015-09-17     1      1            0              0"
      ]
     },
     "execution_count": 22,
     "metadata": {},
     "output_type": "execute_result"
    }
   ],
   "source": [
    "test.head()"
   ]
  },
  {
   "cell_type": "markdown",
   "metadata": {},
   "source": [
    "### 2.2. Number of unique stores in training set."
   ]
  },
  {
   "cell_type": "code",
   "execution_count": 23,
   "metadata": {
    "collapsed": false
   },
   "outputs": [
    {
     "name": "stdout",
     "output_type": "stream",
     "text": [
      "Number of unique stores in train data: 1115\n",
      "Number of unique stores in train data: 856\n"
     ]
    }
   ],
   "source": [
    "print('Number of unique stores in train data: %d' %(len(train.Store.unique())))\n",
    "print('Number of unique stores in train data: %d' %(len(test.Store.unique())))"
   ]
  },
  {
   "cell_type": "markdown",
   "metadata": {},
   "source": [
    "### 2.3. Look into correlations"
   ]
  },
  {
   "cell_type": "code",
   "execution_count": 24,
   "metadata": {
    "collapsed": false
   },
   "outputs": [
    {
     "data": {
      "text/html": [
       "<div>\n",
       "<table border=\"1\" class=\"dataframe\">\n",
       "  <thead>\n",
       "    <tr style=\"text-align: right;\">\n",
       "      <th></th>\n",
       "      <th>Store</th>\n",
       "      <th>DayOfWeek</th>\n",
       "      <th>Sales</th>\n",
       "      <th>Customers</th>\n",
       "      <th>Open</th>\n",
       "      <th>Promo</th>\n",
       "      <th>SchoolHoliday</th>\n",
       "    </tr>\n",
       "  </thead>\n",
       "  <tbody>\n",
       "    <tr>\n",
       "      <th>Store</th>\n",
       "      <td>1.000000</td>\n",
       "      <td>-0.000008</td>\n",
       "      <td>0.005126</td>\n",
       "      <td>0.024325</td>\n",
       "      <td>-0.000047</td>\n",
       "      <td>0.000058</td>\n",
       "      <td>0.000641</td>\n",
       "    </tr>\n",
       "    <tr>\n",
       "      <th>DayOfWeek</th>\n",
       "      <td>-0.000008</td>\n",
       "      <td>1.000000</td>\n",
       "      <td>-0.462125</td>\n",
       "      <td>-0.386445</td>\n",
       "      <td>-0.528963</td>\n",
       "      <td>-0.392925</td>\n",
       "      <td>-0.205388</td>\n",
       "    </tr>\n",
       "    <tr>\n",
       "      <th>Sales</th>\n",
       "      <td>0.005126</td>\n",
       "      <td>-0.462125</td>\n",
       "      <td>1.000000</td>\n",
       "      <td>0.894711</td>\n",
       "      <td>0.678472</td>\n",
       "      <td>0.452345</td>\n",
       "      <td>0.085124</td>\n",
       "    </tr>\n",
       "    <tr>\n",
       "      <th>Customers</th>\n",
       "      <td>0.024325</td>\n",
       "      <td>-0.386445</td>\n",
       "      <td>0.894711</td>\n",
       "      <td>1.000000</td>\n",
       "      <td>0.616768</td>\n",
       "      <td>0.316169</td>\n",
       "      <td>0.071568</td>\n",
       "    </tr>\n",
       "    <tr>\n",
       "      <th>Open</th>\n",
       "      <td>-0.000047</td>\n",
       "      <td>-0.528963</td>\n",
       "      <td>0.678472</td>\n",
       "      <td>0.616768</td>\n",
       "      <td>1.000000</td>\n",
       "      <td>0.295042</td>\n",
       "      <td>0.086171</td>\n",
       "    </tr>\n",
       "    <tr>\n",
       "      <th>Promo</th>\n",
       "      <td>0.000058</td>\n",
       "      <td>-0.392925</td>\n",
       "      <td>0.452345</td>\n",
       "      <td>0.316169</td>\n",
       "      <td>0.295042</td>\n",
       "      <td>1.000000</td>\n",
       "      <td>0.067483</td>\n",
       "    </tr>\n",
       "    <tr>\n",
       "      <th>SchoolHoliday</th>\n",
       "      <td>0.000641</td>\n",
       "      <td>-0.205388</td>\n",
       "      <td>0.085124</td>\n",
       "      <td>0.071568</td>\n",
       "      <td>0.086171</td>\n",
       "      <td>0.067483</td>\n",
       "      <td>1.000000</td>\n",
       "    </tr>\n",
       "  </tbody>\n",
       "</table>\n",
       "</div>"
      ],
      "text/plain": [
       "                  Store  DayOfWeek     Sales  Customers      Open     Promo  \\\n",
       "Store          1.000000  -0.000008  0.005126   0.024325 -0.000047  0.000058   \n",
       "DayOfWeek     -0.000008   1.000000 -0.462125  -0.386445 -0.528963 -0.392925   \n",
       "Sales          0.005126  -0.462125  1.000000   0.894711  0.678472  0.452345   \n",
       "Customers      0.024325  -0.386445  0.894711   1.000000  0.616768  0.316169   \n",
       "Open          -0.000047  -0.528963  0.678472   0.616768  1.000000  0.295042   \n",
       "Promo          0.000058  -0.392925  0.452345   0.316169  0.295042  1.000000   \n",
       "SchoolHoliday  0.000641  -0.205388  0.085124   0.071568  0.086171  0.067483   \n",
       "\n",
       "               SchoolHoliday  \n",
       "Store               0.000641  \n",
       "DayOfWeek          -0.205388  \n",
       "Sales               0.085124  \n",
       "Customers           0.071568  \n",
       "Open                0.086171  \n",
       "Promo               0.067483  \n",
       "SchoolHoliday       1.000000  "
      ]
     },
     "execution_count": 24,
     "metadata": {},
     "output_type": "execute_result"
    }
   ],
   "source": [
    "train.corr()"
   ]
  },
  {
   "cell_type": "markdown",
   "metadata": {},
   "source": [
    "### 2.4. The influence of Open Feature on the sales:"
   ]
  },
  {
   "cell_type": "code",
   "execution_count": 25,
   "metadata": {
    "collapsed": false
   },
   "outputs": [
    {
     "name": "stdout",
     "output_type": "stream",
     "text": [
      "The number of closed stores that zero sales: 172817.\n",
      "The number of closed stores: 172817.\n",
      "Stores which where closed will definately have no sales!\n"
     ]
    }
   ],
   "source": [
    "print(\"The number of closed stores that zero sales: %d.\"%(train.loc[train.Open==0].Sales==0).sum())\n",
    "print(\"The number of closed stores: %d.\"%len(train.loc[train.Open==0]))\n",
    "print(\"Stores which where closed will definately have no sales!\")"
   ]
  },
  {
   "cell_type": "code",
   "execution_count": 26,
   "metadata": {
    "collapsed": false
   },
   "outputs": [
    {
     "name": "stdout",
     "output_type": "stream",
     "text": [
      "Assume store open, if not provided\n",
      "Consider only open stores for training. Closed stores wont count into the score.\n"
     ]
    }
   ],
   "source": [
    "print(\"Assume store open, if not provided\")\n",
    "test.fillna(1, inplace=True)\n",
    "\n",
    "print(\"Consider only open stores for training. Closed stores wont count into the score.\")\n",
    "train = train.loc[train.Sales > 0]"
   ]
  },
  {
   "cell_type": "code",
   "execution_count": 27,
   "metadata": {
    "collapsed": false
   },
   "outputs": [
    {
     "data": {
      "text/html": [
       "<div>\n",
       "<table border=\"1\" class=\"dataframe\">\n",
       "  <thead>\n",
       "    <tr style=\"text-align: right;\">\n",
       "      <th></th>\n",
       "      <th>Store</th>\n",
       "      <th>DayOfWeek</th>\n",
       "      <th>Sales</th>\n",
       "      <th>Customers</th>\n",
       "      <th>Open</th>\n",
       "      <th>Promo</th>\n",
       "      <th>SchoolHoliday</th>\n",
       "    </tr>\n",
       "  </thead>\n",
       "  <tbody>\n",
       "    <tr>\n",
       "      <th>count</th>\n",
       "      <td>844338.000000</td>\n",
       "      <td>844338.000000</td>\n",
       "      <td>844338.000000</td>\n",
       "      <td>844338.000000</td>\n",
       "      <td>844338</td>\n",
       "      <td>844338.000000</td>\n",
       "      <td>844338.000000</td>\n",
       "    </tr>\n",
       "    <tr>\n",
       "      <th>mean</th>\n",
       "      <td>558.421374</td>\n",
       "      <td>3.520350</td>\n",
       "      <td>6955.959134</td>\n",
       "      <td>762.777166</td>\n",
       "      <td>1</td>\n",
       "      <td>0.446356</td>\n",
       "      <td>0.193578</td>\n",
       "    </tr>\n",
       "    <tr>\n",
       "      <th>std</th>\n",
       "      <td>321.730861</td>\n",
       "      <td>1.723712</td>\n",
       "      <td>3103.815515</td>\n",
       "      <td>401.194153</td>\n",
       "      <td>0</td>\n",
       "      <td>0.497114</td>\n",
       "      <td>0.395102</td>\n",
       "    </tr>\n",
       "    <tr>\n",
       "      <th>min</th>\n",
       "      <td>1.000000</td>\n",
       "      <td>1.000000</td>\n",
       "      <td>46.000000</td>\n",
       "      <td>8.000000</td>\n",
       "      <td>1</td>\n",
       "      <td>0.000000</td>\n",
       "      <td>0.000000</td>\n",
       "    </tr>\n",
       "    <tr>\n",
       "      <th>25%</th>\n",
       "      <td>280.000000</td>\n",
       "      <td>2.000000</td>\n",
       "      <td>4859.000000</td>\n",
       "      <td>519.000000</td>\n",
       "      <td>1</td>\n",
       "      <td>0.000000</td>\n",
       "      <td>0.000000</td>\n",
       "    </tr>\n",
       "    <tr>\n",
       "      <th>50%</th>\n",
       "      <td>558.000000</td>\n",
       "      <td>3.000000</td>\n",
       "      <td>6369.000000</td>\n",
       "      <td>676.000000</td>\n",
       "      <td>1</td>\n",
       "      <td>0.000000</td>\n",
       "      <td>0.000000</td>\n",
       "    </tr>\n",
       "    <tr>\n",
       "      <th>75%</th>\n",
       "      <td>837.000000</td>\n",
       "      <td>5.000000</td>\n",
       "      <td>8360.000000</td>\n",
       "      <td>893.000000</td>\n",
       "      <td>1</td>\n",
       "      <td>1.000000</td>\n",
       "      <td>0.000000</td>\n",
       "    </tr>\n",
       "    <tr>\n",
       "      <th>max</th>\n",
       "      <td>1115.000000</td>\n",
       "      <td>7.000000</td>\n",
       "      <td>41551.000000</td>\n",
       "      <td>7388.000000</td>\n",
       "      <td>1</td>\n",
       "      <td>1.000000</td>\n",
       "      <td>1.000000</td>\n",
       "    </tr>\n",
       "  </tbody>\n",
       "</table>\n",
       "</div>"
      ],
      "text/plain": [
       "               Store      DayOfWeek          Sales      Customers    Open  \\\n",
       "count  844338.000000  844338.000000  844338.000000  844338.000000  844338   \n",
       "mean      558.421374       3.520350    6955.959134     762.777166       1   \n",
       "std       321.730861       1.723712    3103.815515     401.194153       0   \n",
       "min         1.000000       1.000000      46.000000       8.000000       1   \n",
       "25%       280.000000       2.000000    4859.000000     519.000000       1   \n",
       "50%       558.000000       3.000000    6369.000000     676.000000       1   \n",
       "75%       837.000000       5.000000    8360.000000     893.000000       1   \n",
       "max      1115.000000       7.000000   41551.000000    7388.000000       1   \n",
       "\n",
       "               Promo  SchoolHoliday  \n",
       "count  844338.000000  844338.000000  \n",
       "mean        0.446356       0.193578  \n",
       "std         0.497114       0.395102  \n",
       "min         0.000000       0.000000  \n",
       "25%         0.000000       0.000000  \n",
       "50%         0.000000       0.000000  \n",
       "75%         1.000000       0.000000  \n",
       "max         1.000000       1.000000  "
      ]
     },
     "execution_count": 27,
     "metadata": {},
     "output_type": "execute_result"
    }
   ],
   "source": [
    "train.describe()"
   ]
  },
  {
   "cell_type": "code",
   "execution_count": 28,
   "metadata": {
    "collapsed": false
   },
   "outputs": [
    {
     "data": {
      "text/html": [
       "<div>\n",
       "<table border=\"1\" class=\"dataframe\">\n",
       "  <thead>\n",
       "    <tr style=\"text-align: right;\">\n",
       "      <th></th>\n",
       "      <th>Id</th>\n",
       "      <th>Store</th>\n",
       "      <th>DayOfWeek</th>\n",
       "      <th>Open</th>\n",
       "      <th>Promo</th>\n",
       "      <th>SchoolHoliday</th>\n",
       "    </tr>\n",
       "  </thead>\n",
       "  <tbody>\n",
       "    <tr>\n",
       "      <th>count</th>\n",
       "      <td>41088.000000</td>\n",
       "      <td>41088.000000</td>\n",
       "      <td>41088.000000</td>\n",
       "      <td>41088.000000</td>\n",
       "      <td>41088.000000</td>\n",
       "      <td>41088.000000</td>\n",
       "    </tr>\n",
       "    <tr>\n",
       "      <th>mean</th>\n",
       "      <td>20544.500000</td>\n",
       "      <td>555.899533</td>\n",
       "      <td>3.979167</td>\n",
       "      <td>0.854361</td>\n",
       "      <td>0.395833</td>\n",
       "      <td>0.443487</td>\n",
       "    </tr>\n",
       "    <tr>\n",
       "      <th>std</th>\n",
       "      <td>11861.228267</td>\n",
       "      <td>320.274496</td>\n",
       "      <td>2.015481</td>\n",
       "      <td>0.352748</td>\n",
       "      <td>0.489035</td>\n",
       "      <td>0.496802</td>\n",
       "    </tr>\n",
       "    <tr>\n",
       "      <th>min</th>\n",
       "      <td>1.000000</td>\n",
       "      <td>1.000000</td>\n",
       "      <td>1.000000</td>\n",
       "      <td>0.000000</td>\n",
       "      <td>0.000000</td>\n",
       "      <td>0.000000</td>\n",
       "    </tr>\n",
       "    <tr>\n",
       "      <th>25%</th>\n",
       "      <td>10272.750000</td>\n",
       "      <td>279.750000</td>\n",
       "      <td>2.000000</td>\n",
       "      <td>1.000000</td>\n",
       "      <td>0.000000</td>\n",
       "      <td>0.000000</td>\n",
       "    </tr>\n",
       "    <tr>\n",
       "      <th>50%</th>\n",
       "      <td>20544.500000</td>\n",
       "      <td>553.500000</td>\n",
       "      <td>4.000000</td>\n",
       "      <td>1.000000</td>\n",
       "      <td>0.000000</td>\n",
       "      <td>0.000000</td>\n",
       "    </tr>\n",
       "    <tr>\n",
       "      <th>75%</th>\n",
       "      <td>30816.250000</td>\n",
       "      <td>832.250000</td>\n",
       "      <td>6.000000</td>\n",
       "      <td>1.000000</td>\n",
       "      <td>1.000000</td>\n",
       "      <td>1.000000</td>\n",
       "    </tr>\n",
       "    <tr>\n",
       "      <th>max</th>\n",
       "      <td>41088.000000</td>\n",
       "      <td>1115.000000</td>\n",
       "      <td>7.000000</td>\n",
       "      <td>1.000000</td>\n",
       "      <td>1.000000</td>\n",
       "      <td>1.000000</td>\n",
       "    </tr>\n",
       "  </tbody>\n",
       "</table>\n",
       "</div>"
      ],
      "text/plain": [
       "                 Id         Store     DayOfWeek          Open         Promo  \\\n",
       "count  41088.000000  41088.000000  41088.000000  41088.000000  41088.000000   \n",
       "mean   20544.500000    555.899533      3.979167      0.854361      0.395833   \n",
       "std    11861.228267    320.274496      2.015481      0.352748      0.489035   \n",
       "min        1.000000      1.000000      1.000000      0.000000      0.000000   \n",
       "25%    10272.750000    279.750000      2.000000      1.000000      0.000000   \n",
       "50%    20544.500000    553.500000      4.000000      1.000000      0.000000   \n",
       "75%    30816.250000    832.250000      6.000000      1.000000      1.000000   \n",
       "max    41088.000000   1115.000000      7.000000      1.000000      1.000000   \n",
       "\n",
       "       SchoolHoliday  \n",
       "count   41088.000000  \n",
       "mean        0.443487  \n",
       "std         0.496802  \n",
       "min         0.000000  \n",
       "25%         0.000000  \n",
       "50%         0.000000  \n",
       "75%         1.000000  \n",
       "max         1.000000  "
      ]
     },
     "execution_count": 28,
     "metadata": {},
     "output_type": "execute_result"
    }
   ],
   "source": [
    "test.describe()"
   ]
  },
  {
   "cell_type": "markdown",
   "metadata": {},
   "source": [
    "* Start/End Date Feature of train/test dataset"
   ]
  },
  {
   "cell_type": "code",
   "execution_count": 29,
   "metadata": {
    "collapsed": false
   },
   "outputs": [
    {
     "name": "stdout",
     "output_type": "stream",
     "text": [
      "Train dataset started from 2013-01-01, to 2015-07-31.\n",
      "Test dataset started from 2015-08-01, to 2015-09-17.\n"
     ]
    }
   ],
   "source": [
    "print(\"Train dataset started from %s, to %s.\"%(train.Date.min(), train.Date.max()))\n",
    "print(\"Test dataset started from %s, to %s.\"%(test.Date.min(), test.Date.max()))"
   ]
  },
  {
   "cell_type": "markdown",
   "metadata": {},
   "source": [
    "### 2.5. Join train and test dataset with store:"
   ]
  },
  {
   "cell_type": "code",
   "execution_count": 30,
   "metadata": {
    "collapsed": false
   },
   "outputs": [
    {
     "name": "stdout",
     "output_type": "stream",
     "text": [
      "Join with store\n"
     ]
    }
   ],
   "source": [
    "print(\"Join with store\")\n",
    "train = pd.merge(train, store, on='Store')\n",
    "test = pd.merge(test, store, on='Store')"
   ]
  },
  {
   "cell_type": "markdown",
   "metadata": {},
   "source": [
    "## 3. Linear Regression:"
   ]
  },
  {
   "cell_type": "markdown",
   "metadata": {},
   "source": [
    "## 4. Bench Mark Solution:\n",
    "\n",
    "Bench Mark Solution here uses the DayOfWeek to make prediction"
   ]
  },
  {
   "cell_type": "code",
   "execution_count": 31,
   "metadata": {
    "collapsed": false
   },
   "outputs": [],
   "source": [
    "## Bench mark Solution:\n",
    "columns = ['Store', 'DayOfWeek', 'Promo']\n",
    "\n",
    "medians = train.groupby( columns ).Sales.median()\n",
    "medians = medians.reset_index()\n",
    "\n",
    "test2 = pd.merge( test, medians, on = columns, how = 'left' )\n",
    "assert( len( test2 ) == len( test ))\n",
    "\n",
    "test2.loc[ test2.Open == 0, 'Sales' ] = 0\n",
    "assert( test2.Sales.isnull().sum() == 0 )\n",
    "\n",
    "test2[[ 'Id', 'Sales' ]].to_csv( output_file, index = False )"
   ]
  },
  {
   "cell_type": "markdown",
   "metadata": {},
   "source": [
    "## 5. Evaluation Metric: RMSPE\n",
    "\n",
    "Root Mean Square Percentage Error"
   ]
  },
  {
   "cell_type": "code",
   "execution_count": 32,
   "metadata": {
    "collapsed": true
   },
   "outputs": [],
   "source": [
    "from math import sqrt\n",
    "\n",
    "def rmspe(y_true, y_pred):\n",
    "    \"\"\"\n",
    "    Root Mean Square Percentage Error\n",
    "    \n",
    "    Args:\n",
    "    y_true: true values for y\n",
    "    y_pred: estimated values for y\n",
    "    \n",
    "    Returns: rmspe\n",
    "    \"\"\"\n",
    "    \n",
    "    n = len(y_true)\n",
    "    e = []\n",
    "    for i in range(n):\n",
    "        if y_true[i] != 0:\n",
    "            e.append((y_true[i] - y_pred[i]) / np.float(y_true[i]))\n",
    "        else:\n",
    "            e.append(0.0)\n",
    "    \n",
    "    e = np.array(e)\n",
    "    e_squared = e ** 2\n",
    "    \n",
    "    return sqrt(np.sum(e_squared) / n)\n"
   ]
  },
  {
   "cell_type": "code",
   "execution_count": 33,
   "metadata": {
    "collapsed": true
   },
   "outputs": [],
   "source": [
    "# Evaluation: Using Root Mean Suare Percentage Error(RMSPE).\n",
    "def ToWeight(y):\n",
    "    w = np.zeros(y.shape, dtype=float)\n",
    "    ind = y != 0\n",
    "    w[ind] = 1./(y[ind]**2)\n",
    "    return w\n",
    "\n",
    "\n",
    "def rmspe(yhat, y):\n",
    "    w = ToWeight(y)\n",
    "    rmspe = np.sqrt(np.mean(w * (y - yhat)**2))\n",
    "    return rmspe\n",
    "\n",
    "\n",
    "def rmspe_xg(yhat, y):\n",
    "    # y = y.values\n",
    "    y = y.get_label()\n",
    "    y = np.exp(y) - 1\n",
    "    yhat = np.exp(yhat) - 1\n",
    "    w = ToWeight(y)\n",
    "    rmspe = np.sqrt(np.mean(w * (y - yhat)**2))\n",
    "    return \"rmspe\", rmspe\n",
    "\n",
    "\n"
   ]
  },
  {
   "cell_type": "markdown",
   "metadata": {},
   "source": [
    "## 6. Machine Learning Approach"
   ]
  },
  {
   "cell_type": "markdown",
   "metadata": {},
   "source": [
    "### 6.1. Gather features \n",
    "\n",
    "According to the previous ananlysis."
   ]
  },
  {
   "cell_type": "code",
   "execution_count": 34,
   "metadata": {
    "collapsed": true
   },
   "outputs": [],
   "source": [
    "# Gather some features\n",
    "def build_features(features, data):\n",
    "    # remove NaNs\n",
    "    data.fillna(0, inplace=True)\n",
    "    data.loc[data.Open.isnull(), 'Open'] = 1\n",
    "    # Use some properties directly\n",
    "    features.extend(['Store', 'CompetitionDistance', 'CompetitionOpenSinceMonth',\n",
    "                     'CompetitionOpenSinceYear', 'Promo', 'Promo2', 'Promo2SinceWeek', 'Promo2SinceYear'])\n",
    "\n",
    "    # add some more with a bit of preprocessing\n",
    "    features.append('SchoolHoliday')\n",
    "    data['SchoolHoliday'] = data['SchoolHoliday'].astype(float)\n",
    "    #\n",
    "    #features.append('StateHoliday')\n",
    "    #data.loc[data['StateHoliday'] == 'a', 'StateHoliday'] = '1'\n",
    "    #data.loc[data['StateHoliday'] == 'b', 'StateHoliday'] = '2'\n",
    "    #data.loc[data['StateHoliday'] == 'c', 'StateHoliday'] = '3'\n",
    "    #data['StateHoliday'] = data['StateHoliday'].astype(float)\n",
    "\n",
    "    features.append('DayOfWeek')\n",
    "    features.append('month')\n",
    "    features.append('day')\n",
    "    features.append('year')\n",
    "    data['year'] = data.Date.apply(lambda x: x.split('-')[0])\n",
    "    data['year'] = data['year'].astype(float)\n",
    "    data['month'] = data.Date.apply(lambda x: x.split('-')[1])\n",
    "    data['month'] = data['month'].astype(float)\n",
    "    data['day'] = data.Date.apply(lambda x: x.split('-')[2])\n",
    "    data['day'] = data['day'].astype(float)\n",
    "\n",
    "    features.append('StoreType')\n",
    "    data.loc[data['StoreType'] == 'a', 'StoreType'] = '1'\n",
    "    data.loc[data['StoreType'] == 'b', 'StoreType'] = '2'\n",
    "    data.loc[data['StoreType'] == 'c', 'StoreType'] = '3'\n",
    "    data.loc[data['StoreType'] == 'd', 'StoreType'] = '4'\n",
    "    data['StoreType'] = data['StoreType'].astype(float)\n",
    "\n",
    "    features.append('Assortment')\n",
    "    data.loc[data['Assortment'] == 'a', 'Assortment'] = '1'\n",
    "    data.loc[data['Assortment'] == 'b', 'Assortment'] = '2'\n",
    "    data.loc[data['Assortment'] == 'c', 'Assortment'] = '3'\n",
    "    data['Assortment'] = data['Assortment'].astype(float)"
   ]
  },
  {
   "cell_type": "code",
   "execution_count": 35,
   "metadata": {
    "collapsed": false
   },
   "outputs": [
    {
     "name": "stdout",
     "output_type": "stream",
     "text": [
      "augment features\n",
      "['Store', 'CompetitionDistance', 'CompetitionOpenSinceMonth', 'CompetitionOpenSinceYear', 'Promo', 'Promo2', 'Promo2SinceWeek', 'Promo2SinceYear', 'SchoolHoliday', 'DayOfWeek', 'month', 'day', 'year', 'StoreType', 'Assortment']\n"
     ]
    }
   ],
   "source": [
    "print(\"augment features\")\n",
    "features = []\n",
    "build_features(features, train)\n",
    "build_features([], test)\n",
    "print(features)"
   ]
  },
  {
   "cell_type": "code",
   "execution_count": 36,
   "metadata": {
    "collapsed": false,
    "scrolled": true
   },
   "outputs": [
    {
     "name": "stderr",
     "output_type": "stream",
     "text": [
      "Will train until train error hasn't decreased in 50 rounds.\n",
      "[0]\teval-rmspe:0.996851\ttrain-rmspe:0.996842\n",
      "[1]\teval-rmspe:0.981539\ttrain-rmspe:0.981513\n",
      "[2]\teval-rmspe:0.938055\ttrain-rmspe:0.938004\n",
      "[3]\teval-rmspe:0.856343\ttrain-rmspe:0.856381\n",
      "[4]\teval-rmspe:0.743134\ttrain-rmspe:0.743632\n",
      "[5]\teval-rmspe:0.617417\ttrain-rmspe:0.619144\n",
      "[6]\teval-rmspe:0.500849\ttrain-rmspe:0.504970\n",
      "[7]\teval-rmspe:0.408317\ttrain-rmspe:0.416726\n",
      "[8]\teval-rmspe:0.346716\ttrain-rmspe:0.359915\n",
      "[9]\teval-rmspe:0.311662\ttrain-rmspe:0.329689\n",
      "[10]\teval-rmspe:0.297306\ttrain-rmspe:0.319380\n",
      "[11]\teval-rmspe:0.294504\ttrain-rmspe:0.318787\n",
      "[12]\teval-rmspe:0.294467\ttrain-rmspe:0.320751\n",
      "[13]\teval-rmspe:0.297665\ttrain-rmspe:0.325737\n",
      "[14]\teval-rmspe:0.287505\ttrain-rmspe:0.316585\n",
      "[15]\teval-rmspe:0.276197\ttrain-rmspe:0.307956\n",
      "[16]\teval-rmspe:0.273334\ttrain-rmspe:0.306262\n",
      "[17]\teval-rmspe:0.273455\ttrain-rmspe:0.306736\n",
      "[18]\teval-rmspe:0.263378\ttrain-rmspe:0.297787\n",
      "[19]\teval-rmspe:0.262196\ttrain-rmspe:0.297046\n",
      "[20]\teval-rmspe:0.257869\ttrain-rmspe:0.292293\n",
      "[21]\teval-rmspe:0.255536\ttrain-rmspe:0.289178\n",
      "[22]\teval-rmspe:0.246881\ttrain-rmspe:0.281636\n",
      "[23]\teval-rmspe:0.245028\ttrain-rmspe:0.279984\n",
      "[24]\teval-rmspe:0.239745\ttrain-rmspe:0.274489\n",
      "[25]\teval-rmspe:0.237395\ttrain-rmspe:0.271694\n",
      "[26]\teval-rmspe:0.235262\ttrain-rmspe:0.269713\n",
      "[27]\teval-rmspe:0.231672\ttrain-rmspe:0.266541\n",
      "[28]\teval-rmspe:0.229757\ttrain-rmspe:0.264792\n",
      "[29]\teval-rmspe:0.225154\ttrain-rmspe:0.259967\n",
      "[30]\teval-rmspe:0.223274\ttrain-rmspe:0.257471\n",
      "[31]\teval-rmspe:0.220550\ttrain-rmspe:0.254797\n",
      "[32]\teval-rmspe:0.214923\ttrain-rmspe:0.251367\n",
      "[33]\teval-rmspe:0.213031\ttrain-rmspe:0.249291\n",
      "[34]\teval-rmspe:0.209708\ttrain-rmspe:0.246422\n",
      "[35]\teval-rmspe:0.209318\ttrain-rmspe:0.245719\n",
      "[36]\teval-rmspe:0.207632\ttrain-rmspe:0.243847\n",
      "[37]\teval-rmspe:0.205533\ttrain-rmspe:0.241662\n",
      "[38]\teval-rmspe:0.204880\ttrain-rmspe:0.241122\n",
      "[39]\teval-rmspe:0.200638\ttrain-rmspe:0.237907\n",
      "[40]\teval-rmspe:0.199816\ttrain-rmspe:0.236819\n",
      "[41]\teval-rmspe:0.196072\ttrain-rmspe:0.233693\n",
      "[42]\teval-rmspe:0.193732\ttrain-rmspe:0.230949\n",
      "[43]\teval-rmspe:0.193673\ttrain-rmspe:0.230870\n",
      "[44]\teval-rmspe:0.192629\ttrain-rmspe:0.229581\n",
      "[45]\teval-rmspe:0.191701\ttrain-rmspe:0.228864\n",
      "[46]\teval-rmspe:0.191471\ttrain-rmspe:0.228659\n",
      "[47]\teval-rmspe:0.190371\ttrain-rmspe:0.227377\n",
      "[48]\teval-rmspe:0.189227\ttrain-rmspe:0.226214\n",
      "[49]\teval-rmspe:0.187255\ttrain-rmspe:0.224716\n",
      "[50]\teval-rmspe:0.186877\ttrain-rmspe:0.224178\n",
      "[51]\teval-rmspe:0.185103\ttrain-rmspe:0.222665\n",
      "[52]\teval-rmspe:0.183150\ttrain-rmspe:0.221202\n",
      "[53]\teval-rmspe:0.181725\ttrain-rmspe:0.220125\n",
      "[54]\teval-rmspe:0.181077\ttrain-rmspe:0.220056\n",
      "[55]\teval-rmspe:0.180629\ttrain-rmspe:0.219873\n",
      "[56]\teval-rmspe:0.180133\ttrain-rmspe:0.218890\n",
      "[57]\teval-rmspe:0.179199\ttrain-rmspe:0.218014\n",
      "[58]\teval-rmspe:0.178083\ttrain-rmspe:0.216778\n",
      "[59]\teval-rmspe:0.176870\ttrain-rmspe:0.215986\n",
      "[60]\teval-rmspe:0.175768\ttrain-rmspe:0.214021\n",
      "[61]\teval-rmspe:0.175442\ttrain-rmspe:0.213805\n",
      "[62]\teval-rmspe:0.174949\ttrain-rmspe:0.212512\n",
      "[63]\teval-rmspe:0.174234\ttrain-rmspe:0.211407\n",
      "[64]\teval-rmspe:0.173005\ttrain-rmspe:0.210114\n",
      "[65]\teval-rmspe:0.171845\ttrain-rmspe:0.209092\n",
      "[66]\teval-rmspe:0.171616\ttrain-rmspe:0.208796\n",
      "[67]\teval-rmspe:0.171263\ttrain-rmspe:0.208466\n",
      "[68]\teval-rmspe:0.169531\ttrain-rmspe:0.209751\n",
      "[69]\teval-rmspe:0.168809\ttrain-rmspe:0.207291\n",
      "[70]\teval-rmspe:0.168580\ttrain-rmspe:0.207050\n",
      "[71]\teval-rmspe:0.168140\ttrain-rmspe:0.206607\n",
      "[72]\teval-rmspe:0.167836\ttrain-rmspe:0.206134\n",
      "[73]\teval-rmspe:0.167757\ttrain-rmspe:0.206018\n",
      "[74]\teval-rmspe:0.167710\ttrain-rmspe:0.205820\n",
      "[75]\teval-rmspe:0.167457\ttrain-rmspe:0.205625\n",
      "[76]\teval-rmspe:0.167158\ttrain-rmspe:0.205275\n",
      "[77]\teval-rmspe:0.167075\ttrain-rmspe:0.204995\n",
      "[78]\teval-rmspe:0.166616\ttrain-rmspe:0.204661\n",
      "[79]\teval-rmspe:0.166433\ttrain-rmspe:0.204139\n",
      "[80]\teval-rmspe:0.165320\ttrain-rmspe:0.203091\n",
      "[81]\teval-rmspe:0.165022\ttrain-rmspe:0.202924\n",
      "[82]\teval-rmspe:0.164040\ttrain-rmspe:0.199758\n",
      "[83]\teval-rmspe:0.162788\ttrain-rmspe:0.198528\n",
      "[84]\teval-rmspe:0.161807\ttrain-rmspe:0.197329\n",
      "[85]\teval-rmspe:0.161583\ttrain-rmspe:0.197147\n",
      "[86]\teval-rmspe:0.161402\ttrain-rmspe:0.197071\n",
      "[87]\teval-rmspe:0.160459\ttrain-rmspe:0.196471\n",
      "[88]\teval-rmspe:0.160193\ttrain-rmspe:0.196234\n",
      "[89]\teval-rmspe:0.159891\ttrain-rmspe:0.195874\n",
      "[90]\teval-rmspe:0.159625\ttrain-rmspe:0.195639\n",
      "[91]\teval-rmspe:0.159106\ttrain-rmspe:0.194941\n",
      "[92]\teval-rmspe:0.158698\ttrain-rmspe:0.194751\n",
      "[93]\teval-rmspe:0.158382\ttrain-rmspe:0.193997\n",
      "[94]\teval-rmspe:0.157798\ttrain-rmspe:0.193819\n",
      "[95]\teval-rmspe:0.157120\ttrain-rmspe:0.193273\n",
      "[96]\teval-rmspe:0.156800\ttrain-rmspe:0.193067\n",
      "[97]\teval-rmspe:0.156243\ttrain-rmspe:0.191888\n",
      "[98]\teval-rmspe:0.156525\ttrain-rmspe:0.191520\n",
      "[99]\teval-rmspe:0.156085\ttrain-rmspe:0.191126\n",
      "[100]\teval-rmspe:0.155454\ttrain-rmspe:0.190613\n",
      "[101]\teval-rmspe:0.154910\ttrain-rmspe:0.190207\n",
      "[102]\teval-rmspe:0.154839\ttrain-rmspe:0.190175\n",
      "[103]\teval-rmspe:0.154551\ttrain-rmspe:0.189969\n",
      "[104]\teval-rmspe:0.154419\ttrain-rmspe:0.189721\n",
      "[105]\teval-rmspe:0.154209\ttrain-rmspe:0.189426\n",
      "[106]\teval-rmspe:0.153734\ttrain-rmspe:0.189076\n",
      "[107]\teval-rmspe:0.153357\ttrain-rmspe:0.188735\n",
      "[108]\teval-rmspe:0.152895\ttrain-rmspe:0.189051\n",
      "[109]\teval-rmspe:0.152478\ttrain-rmspe:0.188283\n",
      "[110]\teval-rmspe:0.151888\ttrain-rmspe:0.188874\n",
      "[111]\teval-rmspe:0.151765\ttrain-rmspe:0.188522\n",
      "[112]\teval-rmspe:0.151460\ttrain-rmspe:0.188335\n",
      "[113]\teval-rmspe:0.150881\ttrain-rmspe:0.187914\n",
      "[114]\teval-rmspe:0.150627\ttrain-rmspe:0.187683\n",
      "[115]\teval-rmspe:0.150206\ttrain-rmspe:0.187416\n",
      "[116]\teval-rmspe:0.150082\ttrain-rmspe:0.187066\n",
      "[117]\teval-rmspe:0.149848\ttrain-rmspe:0.186868\n",
      "[118]\teval-rmspe:0.149651\ttrain-rmspe:0.187030\n",
      "[119]\teval-rmspe:0.149520\ttrain-rmspe:0.187070\n",
      "[120]\teval-rmspe:0.149222\ttrain-rmspe:0.186871\n",
      "[121]\teval-rmspe:0.149197\ttrain-rmspe:0.186323\n",
      "[122]\teval-rmspe:0.148874\ttrain-rmspe:0.186083\n",
      "[123]\teval-rmspe:0.148703\ttrain-rmspe:0.185951\n",
      "[124]\teval-rmspe:0.148672\ttrain-rmspe:0.185927\n",
      "[125]\teval-rmspe:0.148072\ttrain-rmspe:0.185291\n",
      "[126]\teval-rmspe:0.148034\ttrain-rmspe:0.185215\n",
      "[127]\teval-rmspe:0.147851\ttrain-rmspe:0.185030\n",
      "[128]\teval-rmspe:0.147637\ttrain-rmspe:0.184826\n",
      "[129]\teval-rmspe:0.147467\ttrain-rmspe:0.184671\n",
      "[130]\teval-rmspe:0.147417\ttrain-rmspe:0.184551\n",
      "[131]\teval-rmspe:0.147374\ttrain-rmspe:0.179725\n",
      "[132]\teval-rmspe:0.147200\ttrain-rmspe:0.179570\n",
      "[133]\teval-rmspe:0.147174\ttrain-rmspe:0.179340\n",
      "[134]\teval-rmspe:0.146956\ttrain-rmspe:0.179175\n",
      "[135]\teval-rmspe:0.146844\ttrain-rmspe:0.178957\n",
      "[136]\teval-rmspe:0.146625\ttrain-rmspe:0.178848\n",
      "[137]\teval-rmspe:0.146355\ttrain-rmspe:0.178434\n",
      "[138]\teval-rmspe:0.146043\ttrain-rmspe:0.178099\n",
      "[139]\teval-rmspe:0.145835\ttrain-rmspe:0.177741\n",
      "[140]\teval-rmspe:0.145649\ttrain-rmspe:0.177580\n",
      "[141]\teval-rmspe:0.145489\ttrain-rmspe:0.177494\n",
      "[142]\teval-rmspe:0.145291\ttrain-rmspe:0.177257\n",
      "[143]\teval-rmspe:0.144991\ttrain-rmspe:0.176923\n",
      "[144]\teval-rmspe:0.144635\ttrain-rmspe:0.177013\n",
      "[145]\teval-rmspe:0.144244\ttrain-rmspe:0.176656\n",
      "[146]\teval-rmspe:0.144146\ttrain-rmspe:0.176526\n",
      "[147]\teval-rmspe:0.143933\ttrain-rmspe:0.176187\n",
      "[148]\teval-rmspe:0.143744\ttrain-rmspe:0.175982\n",
      "[149]\teval-rmspe:0.143479\ttrain-rmspe:0.175865\n",
      "[150]\teval-rmspe:0.143380\ttrain-rmspe:0.175878\n",
      "[151]\teval-rmspe:0.143333\ttrain-rmspe:0.175738\n",
      "[152]\teval-rmspe:0.143255\ttrain-rmspe:0.175653\n",
      "[153]\teval-rmspe:0.143232\ttrain-rmspe:0.175657\n",
      "[154]\teval-rmspe:0.143186\ttrain-rmspe:0.175604\n",
      "[155]\teval-rmspe:0.143152\ttrain-rmspe:0.175516\n",
      "[156]\teval-rmspe:0.142984\ttrain-rmspe:0.175303\n",
      "[157]\teval-rmspe:0.142805\ttrain-rmspe:0.175282\n",
      "[158]\teval-rmspe:0.142708\ttrain-rmspe:0.175124\n",
      "[159]\teval-rmspe:0.142563\ttrain-rmspe:0.175095\n",
      "[160]\teval-rmspe:0.142476\ttrain-rmspe:0.172846\n",
      "[161]\teval-rmspe:0.141702\ttrain-rmspe:0.172267\n",
      "[162]\teval-rmspe:0.141627\ttrain-rmspe:0.172151\n",
      "[163]\teval-rmspe:0.141438\ttrain-rmspe:0.172069\n",
      "[164]\teval-rmspe:0.141327\ttrain-rmspe:0.171949\n",
      "[165]\teval-rmspe:0.141289\ttrain-rmspe:0.171901\n",
      "[166]\teval-rmspe:0.141260\ttrain-rmspe:0.171880\n",
      "[167]\teval-rmspe:0.140964\ttrain-rmspe:0.171362\n",
      "[168]\teval-rmspe:0.140557\ttrain-rmspe:0.170967\n",
      "[169]\teval-rmspe:0.140459\ttrain-rmspe:0.170903\n",
      "[170]\teval-rmspe:0.140313\ttrain-rmspe:0.170757\n",
      "[171]\teval-rmspe:0.140281\ttrain-rmspe:0.170762\n",
      "[172]\teval-rmspe:0.140218\ttrain-rmspe:0.170483\n",
      "[173]\teval-rmspe:0.140030\ttrain-rmspe:0.170324\n",
      "[174]\teval-rmspe:0.139957\ttrain-rmspe:0.170255\n",
      "[175]\teval-rmspe:0.139708\ttrain-rmspe:0.165572\n",
      "[176]\teval-rmspe:0.139521\ttrain-rmspe:0.166343\n",
      "[177]\teval-rmspe:0.139404\ttrain-rmspe:0.166174\n",
      "[178]\teval-rmspe:0.139239\ttrain-rmspe:0.165790\n",
      "[179]\teval-rmspe:0.139021\ttrain-rmspe:0.165679\n",
      "[180]\teval-rmspe:0.138924\ttrain-rmspe:0.165503\n",
      "[181]\teval-rmspe:0.138804\ttrain-rmspe:0.164899\n",
      "[182]\teval-rmspe:0.138521\ttrain-rmspe:0.164727\n",
      "[183]\teval-rmspe:0.138419\ttrain-rmspe:0.164569\n",
      "[184]\teval-rmspe:0.138387\ttrain-rmspe:0.164519\n",
      "[185]\teval-rmspe:0.138301\ttrain-rmspe:0.156418\n",
      "[186]\teval-rmspe:0.138244\ttrain-rmspe:0.156330\n",
      "[187]\teval-rmspe:0.138121\ttrain-rmspe:0.156268\n",
      "[188]\teval-rmspe:0.138037\ttrain-rmspe:0.155876\n",
      "[189]\teval-rmspe:0.138010\ttrain-rmspe:0.155778\n",
      "[190]\teval-rmspe:0.137831\ttrain-rmspe:0.155739\n",
      "[191]\teval-rmspe:0.137680\ttrain-rmspe:0.155395\n",
      "[192]\teval-rmspe:0.137648\ttrain-rmspe:0.155221\n",
      "[193]\teval-rmspe:0.137420\ttrain-rmspe:0.155232\n",
      "[194]\teval-rmspe:0.137325\ttrain-rmspe:0.154849\n",
      "[195]\teval-rmspe:0.137270\ttrain-rmspe:0.154795\n",
      "[196]\teval-rmspe:0.137179\ttrain-rmspe:0.154711\n",
      "[197]\teval-rmspe:0.137007\ttrain-rmspe:0.154546\n",
      "[198]\teval-rmspe:0.136724\ttrain-rmspe:0.154329\n",
      "[199]\teval-rmspe:0.136755\ttrain-rmspe:0.154144\n",
      "[200]\teval-rmspe:0.136084\ttrain-rmspe:0.153838\n",
      "[201]\teval-rmspe:0.135996\ttrain-rmspe:0.153727\n",
      "[202]\teval-rmspe:0.135945\ttrain-rmspe:0.153729\n",
      "[203]\teval-rmspe:0.135838\ttrain-rmspe:0.153711\n",
      "[204]\teval-rmspe:0.135784\ttrain-rmspe:0.153374\n",
      "[205]\teval-rmspe:0.135677\ttrain-rmspe:0.153265\n",
      "[206]\teval-rmspe:0.135596\ttrain-rmspe:0.153107\n",
      "[207]\teval-rmspe:0.135499\ttrain-rmspe:0.152945\n",
      "[208]\teval-rmspe:0.135432\ttrain-rmspe:0.152956\n",
      "[209]\teval-rmspe:0.135407\ttrain-rmspe:0.152901\n",
      "[210]\teval-rmspe:0.135341\ttrain-rmspe:0.152871\n",
      "[211]\teval-rmspe:0.135235\ttrain-rmspe:0.152794\n",
      "[212]\teval-rmspe:0.135189\ttrain-rmspe:0.152615\n",
      "[213]\teval-rmspe:0.135079\ttrain-rmspe:0.152544\n",
      "[214]\teval-rmspe:0.135043\ttrain-rmspe:0.152405\n",
      "[215]\teval-rmspe:0.135072\ttrain-rmspe:0.152379\n",
      "[216]\teval-rmspe:0.134964\ttrain-rmspe:0.152203\n",
      "[217]\teval-rmspe:0.134939\ttrain-rmspe:0.152180\n",
      "[218]\teval-rmspe:0.134924\ttrain-rmspe:0.152179\n",
      "[219]\teval-rmspe:0.134876\ttrain-rmspe:0.152041\n",
      "[220]\teval-rmspe:0.134712\ttrain-rmspe:0.151927\n",
      "[221]\teval-rmspe:0.134747\ttrain-rmspe:0.151871\n",
      "[222]\teval-rmspe:0.134697\ttrain-rmspe:0.151744\n",
      "[223]\teval-rmspe:0.134626\ttrain-rmspe:0.151644\n",
      "[224]\teval-rmspe:0.134571\ttrain-rmspe:0.151583\n",
      "[225]\teval-rmspe:0.134526\ttrain-rmspe:0.151471\n",
      "[226]\teval-rmspe:0.134418\ttrain-rmspe:0.151330\n",
      "[227]\teval-rmspe:0.134383\ttrain-rmspe:0.151211\n",
      "[228]\teval-rmspe:0.134347\ttrain-rmspe:0.151174\n",
      "[229]\teval-rmspe:0.134405\ttrain-rmspe:0.151094\n",
      "[230]\teval-rmspe:0.134291\ttrain-rmspe:0.151006\n",
      "[231]\teval-rmspe:0.132731\ttrain-rmspe:0.150615\n",
      "[232]\teval-rmspe:0.132678\ttrain-rmspe:0.150527\n",
      "[233]\teval-rmspe:0.132654\ttrain-rmspe:0.150526\n",
      "[234]\teval-rmspe:0.132644\ttrain-rmspe:0.150469\n",
      "[235]\teval-rmspe:0.132454\ttrain-rmspe:0.150358\n",
      "[236]\teval-rmspe:0.132385\ttrain-rmspe:0.150266\n",
      "[237]\teval-rmspe:0.132285\ttrain-rmspe:0.150218\n",
      "[238]\teval-rmspe:0.132237\ttrain-rmspe:0.149088\n",
      "[239]\teval-rmspe:0.132194\ttrain-rmspe:0.149018\n",
      "[240]\teval-rmspe:0.131888\ttrain-rmspe:0.148950\n",
      "[241]\teval-rmspe:0.131649\ttrain-rmspe:0.148854\n",
      "[242]\teval-rmspe:0.131607\ttrain-rmspe:0.148820\n",
      "[243]\teval-rmspe:0.131517\ttrain-rmspe:0.148510\n",
      "[244]\teval-rmspe:0.131347\ttrain-rmspe:0.148065\n",
      "[245]\teval-rmspe:0.131327\ttrain-rmspe:0.148009\n",
      "[246]\teval-rmspe:0.131279\ttrain-rmspe:0.147975\n",
      "[247]\teval-rmspe:0.131179\ttrain-rmspe:0.147829\n",
      "[248]\teval-rmspe:0.131147\ttrain-rmspe:0.147793\n",
      "[249]\teval-rmspe:0.131099\ttrain-rmspe:0.147753\n",
      "[250]\teval-rmspe:0.130958\ttrain-rmspe:0.147672\n",
      "[251]\teval-rmspe:0.130894\ttrain-rmspe:0.147630\n",
      "[252]\teval-rmspe:0.130853\ttrain-rmspe:0.147507\n",
      "[253]\teval-rmspe:0.130818\ttrain-rmspe:0.147332\n",
      "[254]\teval-rmspe:0.130648\ttrain-rmspe:0.147164\n",
      "[255]\teval-rmspe:0.130609\ttrain-rmspe:0.147139\n",
      "[256]\teval-rmspe:0.130573\ttrain-rmspe:0.147089\n",
      "[257]\teval-rmspe:0.130496\ttrain-rmspe:0.144233\n",
      "[258]\teval-rmspe:0.130432\ttrain-rmspe:0.144588\n",
      "[259]\teval-rmspe:0.130334\ttrain-rmspe:0.144498\n",
      "[260]\teval-rmspe:0.130258\ttrain-rmspe:0.144383\n",
      "[261]\teval-rmspe:0.130124\ttrain-rmspe:0.144291\n",
      "[262]\teval-rmspe:0.130077\ttrain-rmspe:0.144072\n",
      "[263]\teval-rmspe:0.130020\ttrain-rmspe:0.144029\n",
      "[264]\teval-rmspe:0.129889\ttrain-rmspe:0.144043\n",
      "[265]\teval-rmspe:0.129874\ttrain-rmspe:0.143995\n",
      "[266]\teval-rmspe:0.129763\ttrain-rmspe:0.143898\n",
      "[267]\teval-rmspe:0.129698\ttrain-rmspe:0.143809\n",
      "[268]\teval-rmspe:0.129585\ttrain-rmspe:0.143731\n",
      "[269]\teval-rmspe:0.129574\ttrain-rmspe:0.143682\n",
      "[270]\teval-rmspe:0.129449\ttrain-rmspe:0.143539\n",
      "[271]\teval-rmspe:0.129441\ttrain-rmspe:0.143546\n",
      "[272]\teval-rmspe:0.129379\ttrain-rmspe:0.143321\n",
      "[273]\teval-rmspe:0.129311\ttrain-rmspe:0.143232\n",
      "[274]\teval-rmspe:0.129208\ttrain-rmspe:0.143120\n",
      "[275]\teval-rmspe:0.128984\ttrain-rmspe:0.142937\n",
      "[276]\teval-rmspe:0.128996\ttrain-rmspe:0.142921\n",
      "[277]\teval-rmspe:0.128932\ttrain-rmspe:0.142861\n",
      "[278]\teval-rmspe:0.128858\ttrain-rmspe:0.142852\n",
      "[279]\teval-rmspe:0.128826\ttrain-rmspe:0.142796\n",
      "[280]\teval-rmspe:0.128698\ttrain-rmspe:0.142719\n",
      "[281]\teval-rmspe:0.128803\ttrain-rmspe:0.138004\n",
      "[282]\teval-rmspe:0.128802\ttrain-rmspe:0.137858\n",
      "[283]\teval-rmspe:0.128735\ttrain-rmspe:0.137012\n",
      "[284]\teval-rmspe:0.128666\ttrain-rmspe:0.136987\n",
      "[285]\teval-rmspe:0.128589\ttrain-rmspe:0.136926\n",
      "[286]\teval-rmspe:0.128574\ttrain-rmspe:0.136900\n",
      "[287]\teval-rmspe:0.128576\ttrain-rmspe:0.136885\n",
      "[288]\teval-rmspe:0.128524\ttrain-rmspe:0.136847\n",
      "[289]\teval-rmspe:0.128449\ttrain-rmspe:0.136825\n",
      "[290]\teval-rmspe:0.128416\ttrain-rmspe:0.136728\n",
      "[291]\teval-rmspe:0.128398\ttrain-rmspe:0.136671\n",
      "[292]\teval-rmspe:0.128400\ttrain-rmspe:0.136666\n",
      "[293]\teval-rmspe:0.128434\ttrain-rmspe:0.136621\n",
      "[294]\teval-rmspe:0.128394\ttrain-rmspe:0.135941\n",
      "[295]\teval-rmspe:0.128361\ttrain-rmspe:0.135860\n",
      "[296]\teval-rmspe:0.128261\ttrain-rmspe:0.135796\n",
      "[297]\teval-rmspe:0.128198\ttrain-rmspe:0.135747\n",
      "[298]\teval-rmspe:0.128449\ttrain-rmspe:0.135708\n"
     ]
    },
    {
     "name": "stdout",
     "output_type": "stream",
     "text": [
      "Train a XGBoost model\n",
      "844337    2013-01-02\n",
      "Name: Date, dtype: object\n"
     ]
    },
    {
     "name": "stderr",
     "output_type": "stream",
     "text": [
      "[299]\teval-rmspe:0.128414\ttrain-rmspe:0.135669\n"
     ]
    }
   ],
   "source": [
    "print(\"Train a XGBoost model\")\n",
    "val_size = 100000\n",
    "#train = train.sort(['Date'])\n",
    "print(train.tail(1)['Date'])\n",
    "X_train, X_test = cross_validation.train_test_split(train, test_size=0.01)\n",
    "#X_train, X_test = train.head(len(train) - val_size), train.tail(val_size)\n",
    "dtrain = xgb.DMatrix(X_train[features], np.log(X_train[\"Sales\"] + 1))\n",
    "dvalid = xgb.DMatrix(X_test[features], np.log(X_test[\"Sales\"] + 1))\n",
    "dtest = xgb.DMatrix(test[features])\n",
    "watchlist = [(dvalid, 'eval'), (dtrain, 'train')]\n",
    "\n",
    "params = {\"objective\": \"reg:linear\",\n",
    "          \"eta\": 0.3,\n",
    "          \"max_depth\": 8,\n",
    "          \"subsample\": 0.7,\n",
    "          \"colsample_bytree\": 0.7,\n",
    "          \"silent\": 1\n",
    "          }\n",
    "num_trees = 300\n",
    "\n",
    "gbm = xgb.train(params, dtrain, num_trees, evals=watchlist, early_stopping_rounds=50, \n",
    "                feval=rmspe_xg, verbose_eval=True)"
   ]
  },
  {
   "cell_type": "code",
   "execution_count": 37,
   "metadata": {
    "collapsed": false
   },
   "outputs": [
    {
     "data": {
      "text/plain": [
       "<matplotlib.axes._subplots.AxesSubplot at 0x109a14110>"
      ]
     },
     "execution_count": 37,
     "metadata": {},
     "output_type": "execute_result"
    },
    {
     "data": {
      "image/png": "[encoded data removed]",
      "text/plain": [
       "<matplotlib.figure.Figure at 0x109a14790>"
      ]
     },
     "metadata": {},
     "output_type": "display_data"
    }
   ],
   "source": [
    "xgb.plot_importance(gbm)"
   ]
  },
  {
   "cell_type": "code",
   "execution_count": 38,
   "metadata": {
    "collapsed": false,
    "scrolled": false
   },
   "outputs": [
    {
     "name": "stdout",
     "output_type": "stream",
     "text": [
      "Validating\n",
      "Train error 0.128413803166\n",
      "Make predictions on the test set\n"
     ]
    }
   ],
   "source": [
    "print(\"Validating\")\n",
    "train_probs = gbm.predict(xgb.DMatrix(X_test[features]))\n",
    "indices = train_probs < 0\n",
    "train_probs[indices] = 0\n",
    "error = rmspe(np.exp(train_probs) - 1, X_test['Sales'].values)\n",
    "print('Train error', error)\n",
    "\n",
    "print(\"Make predictions on the test set\")\n",
    "test_probs = gbm.predict(xgb.DMatrix(test[features]))\n",
    "indices = test_probs < 0\n",
    "test_probs[indices] = 0\n",
    "submission = pd.DataFrame({\"Id\": test[\"Id\"], \"Sales\": np.exp(test_probs) - 1})\n",
    "submission.to_csv(\"../submissions/xgboost_kscript_submission.csv\", index=False)       "
   ]
  }
 ],
 "metadata": {
  "kernelspec": {
   "display_name": "Python 2",
   "language": "python",
   "name": "python2"
  },
  "language_info": {
   "codemirror_mode": {
    "name": "ipython",
    "version": 2
   },
   "file_extension": ".py",
   "mimetype": "text/x-python",
   "name": "python",
   "nbconvert_exporter": "python",
   "pygments_lexer": "ipython2",
   "version": "2.7.10"
  }
 },
 "nbformat": 4,
 "nbformat_minor": 0
}
